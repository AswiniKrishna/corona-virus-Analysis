{
 "cells": [
  {
   "cell_type": "code",
   "execution_count": null,
   "metadata": {},
   "outputs": [],
   "source": [
    "# Importing all the important libraries\n",
    "\n",
    "import numpy as np\n",
    "import pandas as pd \n",
    "import matplotlib.pyplot as plt \n",
    "import matplotlib.colors as mcolors\n",
    "import random\n",
    "import math\n",
    "import time\n",
    "from sklearn.model_selection import RandomizedSearchCV, train_test_split\n",
    "from sklearn.svm import SVR\n",
    "from sklearn.metrics import mean_squared_error, mean_absolute_error\n",
    "import datetime\n",
    "import operator\n",
    "plt.style.use('seaborn')\n",
    "%matplotlib inline \n"
   ]
  },
  {
   "cell_type": "code",
   "execution_count": null,
   "metadata": {},
   "outputs": [],
   "source": [
    "# Loading all the three datasets\n",
    "\n",
    "confirmed_cases = pd.read_csv('D:/Corona_virus analysis/time_series_covid-19_confirmed.csv')"
   ]
  },
  {
   "cell_type": "code",
   "execution_count": null,
   "metadata": {},
   "outputs": [],
   "source": [
    "deaths_reported = pd.read_csv('D:/Corona_virus analysis/time_series_covid-19_deaths.csv')"
   ]
  },
  {
   "cell_type": "code",
   "execution_count": null,
   "metadata": {},
   "outputs": [],
   "source": [
    "recovered_cases = pd.read_csv('D:/Corona_virus analysis/time_series_covid-19_recovered.csv')"
   ]
  },
  {
   "cell_type": "code",
   "execution_count": null,
   "metadata": {},
   "outputs": [],
   "source": [
    "# Display the head of the dataset\n",
    "\n",
    "confirmed_cases.head()"
   ]
  },
  {
   "cell_type": "code",
   "execution_count": null,
   "metadata": {},
   "outputs": [],
   "source": [
    "deaths_reported.head()"
   ]
  },
  {
   "cell_type": "code",
   "execution_count": null,
   "metadata": {},
   "outputs": [],
   "source": [
    "recovered_cases.head()"
   ]
  },
  {
   "cell_type": "code",
   "execution_count": null,
   "metadata": {},
   "outputs": [],
   "source": [
    "# Extracting all the columns using the .keys() function\n",
    "\n",
    "cols = confirmed_cases.keys()\n",
    "cols"
   ]
  },
  {
   "cell_type": "code",
   "execution_count": null,
   "metadata": {},
   "outputs": [],
   "source": [
    "# Extracting only the dates columns that have information of confirmed, deaths and recovered cases\n",
    "\n",
    "confirmed = confirmed_cases.loc[:, cols[4]:cols[-1]]"
   ]
  },
  {
   "cell_type": "code",
   "execution_count": null,
   "metadata": {},
   "outputs": [],
   "source": [
    "deaths = deaths_reported.loc[:, cols[4]:cols[-1]]"
   ]
  },
  {
   "cell_type": "code",
   "execution_count": null,
   "metadata": {},
   "outputs": [],
   "source": [
    "recoveries = recovered_cases.loc[:, cols[4]:cols[-1]]"
   ]
  },
  {
   "cell_type": "code",
   "execution_count": null,
   "metadata": {},
   "outputs": [],
   "source": [
    "# Check the head of the outbreak cases\n",
    "\n",
    "confirmed.head()"
   ]
  },
  {
   "cell_type": "code",
   "execution_count": null,
   "metadata": {},
   "outputs": [],
   "source": [
    "# Finding the total confirmed cases, death cases and the recovered cases and append them to an 4 empty lists\n",
    "# Also, calculate the total mortality rate which is the death_sum/confirmed cases\n",
    "\n",
    "dates = confirmed.keys()\n",
    "world_cases = []\n",
    "total_deaths = [] \n",
    "mortality_rate = []\n",
    "total_recovered = [] \n",
    "\n",
    "for i in dates:\n",
    "    confirmed_sum = confirmed[i].sum()\n",
    "    death_sum = deaths[i].sum()\n",
    "    recovered_sum = recoveries[i].sum()\n",
    "    world_cases.append(confirmed_sum)\n",
    "    total_deaths.append(death_sum)\n",
    "    mortality_rate.append(death_sum/confirmed_sum)\n",
    "    total_recovered.append(recovered_sum)"
   ]
  },
  {
   "cell_type": "code",
   "execution_count": null,
   "metadata": {},
   "outputs": [],
   "source": [
    "# Let's display each of the newly created variables\n",
    "\n",
    "confirmed_sum"
   ]
  },
  {
   "cell_type": "code",
   "execution_count": null,
   "metadata": {},
   "outputs": [],
   "source": [
    "death_sum"
   ]
  },
  {
   "cell_type": "code",
   "execution_count": null,
   "metadata": {},
   "outputs": [],
   "source": [
    "recovered_sum"
   ]
  },
  {
   "cell_type": "code",
   "execution_count": null,
   "metadata": {},
   "outputs": [],
   "source": [
    "world_cases"
   ]
  },
  {
   "cell_type": "code",
   "execution_count": null,
   "metadata": {},
   "outputs": [],
   "source": [
    "# Convert all the dates and the cases in the form of a numpy array\n",
    "\n",
    "days_since_1_22 = np.array([i for i in range(len(dates))]).reshape(-1, 1)\n",
    "world_cases = np.array(world_cases).reshape(-1, 1)\n",
    "total_deaths = np.array(total_deaths).reshape(-1, 1)\n",
    "total_recovered = np.array(total_recovered).reshape(-1, 1)"
   ]
  },
  {
   "cell_type": "code",
   "execution_count": null,
   "metadata": {},
   "outputs": [],
   "source": [
    "days_since_1_22"
   ]
  },
  {
   "cell_type": "code",
   "execution_count": null,
   "metadata": {},
   "outputs": [],
   "source": [
    "world_cases"
   ]
  },
  {
   "cell_type": "code",
   "execution_count": null,
   "metadata": {},
   "outputs": [],
   "source": [
    "total_deaths"
   ]
  },
  {
   "cell_type": "code",
   "execution_count": null,
   "metadata": {},
   "outputs": [],
   "source": [
    "total_recovered"
   ]
  },
  {
   "cell_type": "code",
   "execution_count": null,
   "metadata": {},
   "outputs": [],
   "source": [
    "# Future forecasting for the next 10 days\n",
    "\n",
    "days_in_future = 10\n",
    "future_forecast = np.array([i for i in range(len(dates)+days_in_future)]).reshape(-1, 1)\n",
    "adjusted_dates = future_forecast[:-10]"
   ]
  },
  {
   "cell_type": "code",
   "execution_count": null,
   "metadata": {},
   "outputs": [],
   "source": [
    "future_forecast"
   ]
  },
  {
   "cell_type": "code",
   "execution_count": null,
   "metadata": {},
   "outputs": [],
   "source": [
    "# Convert all the integers into datetime for better visualization\n",
    "\n",
    "start = '1/22/2020'\n",
    "start_date = datetime.datetime.strptime(start, '%m/%d/%Y')\n",
    "future_forcast_dates = []\n",
    "for i in range(len(future_forcast)):\n",
    "    future_forcast_dates.append((start_date + datetime.timedelta(days=i)).strftime('%m/%d/%Y'))"
   ]
  },
  {
   "cell_type": "code",
   "execution_count": null,
   "metadata": {},
   "outputs": [],
   "source": [
    "# For visualization with the latest data of 15th of march\n",
    "\n",
    "latest_confirmed = confirmed_cases[dates[-1]]\n",
    "latest_deaths = deaths_reported[dates[-1]]\n",
    "latest_recoveries = recovered_cases[dates[-1]]"
   ]
  },
  {
   "cell_type": "code",
   "execution_count": null,
   "metadata": {},
   "outputs": [],
   "source": [
    "latest_confirmed"
   ]
  },
  {
   "cell_type": "code",
   "execution_count": null,
   "metadata": {},
   "outputs": [],
   "source": [
    "latest_deaths"
   ]
  },
  {
   "cell_type": "code",
   "execution_count": null,
   "metadata": {},
   "outputs": [],
   "source": [
    "latest_recoveries"
   ]
  },
  {
   "cell_type": "code",
   "execution_count": null,
   "metadata": {},
   "outputs": [],
   "source": [
    "# Find the list of unique countries\n",
    "\n",
    "unique_countries =  list(confirmed_cases['Country/Region'].unique())\n",
    "unique_countries"
   ]
  },
  {
   "cell_type": "code",
   "execution_count": null,
   "metadata": {},
   "outputs": [],
   "source": [
    "# The next line of code will basically calculate the total number of confirmed cases by each country\n",
    "\n",
    "country_confirmed_cases = []\n",
    "no_cases = []\n",
    "for i in unique_countries:\n",
    "    cases = latest_confirmed[confirmed_cases['Country/Region']==i].sum()\n",
    "    if cases > 0:\n",
    "        country_confirmed_cases.append(cases)\n",
    "    else:\n",
    "        no_cases.append(i)\n",
    "        \n",
    "for i in no_cases:\n",
    "    unique_countries.remove(i)\n",
    "    \n",
    "unique_countries = [k for k, v in sorted(zip(unique_countries, country_confirmed_cases), key=operator.itemgetter(1), reverse=True)]\n",
    "for i in range(len(unique_countries)):\n",
    "    country_confirmed_cases[i] = latest_confirmed[confirmed_cases['Country/Region']==unique_countries[i]].sum()"
   ]
  },
  {
   "cell_type": "code",
   "execution_count": null,
   "metadata": {},
   "outputs": [],
   "source": [
    "# number of cases per country/region\n",
    "\n",
    "print('Confirmed Cases by Countries/Regions:')\n",
    "for i in range(len(unique_countries)):\n",
    "    print(f'{unique_countries[i]}: {country_confirmed_cases[i]} cases')"
   ]
  },
  {
   "cell_type": "code",
   "execution_count": null,
   "metadata": {},
   "outputs": [],
   "source": [
    "# Find the list of unique provinces\n",
    "\n",
    "unique_provinces =  list(confirmed_cases['Province/State'].unique())\n",
    "# those are countries, which are not provinces/states.\n",
    "outliers = ['United Kingdom', 'Denmark', 'France']\n",
    "for i in outliers:\n",
    "    unique_provinces.remove(i)\n"
   ]
  },
  {
   "cell_type": "code",
   "execution_count": null,
   "metadata": {},
   "outputs": [],
   "source": [
    "# Finding the number of confirmed cases per province, state or city\n",
    "\n",
    "province_confirmed_cases = []\n",
    "no_cases = [] \n",
    "for i in unique_provinces:\n",
    "    cases = latest_confirmed[confirmed_cases['Province/State']==i].sum()\n",
    "    if cases > 0:\n",
    "        province_confirmed_cases.append(cases)\n",
    "    else:\n",
    "        no_cases.append(i)\n",
    " \n",
    "for i in no_cases:\n",
    "    unique_provinces.remove(i)\n"
   ]
  },
  {
   "cell_type": "code",
   "execution_count": null,
   "metadata": {},
   "outputs": [],
   "source": [
    "# number of cases per province/state/city\n",
    "\n",
    "for i in range(len(unique_provinces)):\n",
    "    print(f'{unique_provinces[i]}: {province_confirmed_cases[i]} cases')"
   ]
  },
  {
   "cell_type": "code",
   "execution_count": null,
   "metadata": {},
   "outputs": [],
   "source": [
    "# handling nan values if there is any\n",
    "\n",
    "nan_indices = [] \n",
    "\n",
    "\n",
    "for i in range(len(unique_provinces)):\n",
    "    if type(unique_provinces[i]) == float:\n",
    "        nan_indices.append(i)\n",
    "\n",
    "unique_provinces = list(unique_provinces)\n",
    "province_confirmed_cases = list(province_confirmed_cases)\n",
    "\n",
    "for i in nan_indices:\n",
    "    unique_provinces.pop(i)\n",
    "    province_confirmed_cases.pop(i)"
   ]
  },
  {
   "cell_type": "code",
   "execution_count": null,
   "metadata": {},
   "outputs": [],
   "source": [
    "# Plot a bar graph to see the total confirmed cases across different countries\n",
    "\n",
    "plt.figure(figsize=(32, 32))\n",
    "plt.barh(unique_countries, country_confirmed_cases)\n",
    "plt.title('Number of Covid-19 Confirmed Cases in Countries')\n",
    "plt.xlabel('Number of Covid19 Confirmed Cases')\n",
    "plt.show()"
   ]
  },
  {
   "cell_type": "code",
   "execution_count": null,
   "metadata": {},
   "outputs": [],
   "source": [
    "# Plot a bar graph to see the total confirmed cases between mainland china and outside mainland china \n",
    "\n",
    "china_confirmed = latest_confirmed[confirmed_cases['Country/Region']=='China'].sum()\n",
    "outside_mainland_china_confirmed = np.sum(country_confirmed_cases) - china_confirmed\n",
    "plt.figure(figsize=(16, 9))\n",
    "plt.barh('Mainland China', china_confirmed)\n",
    "plt.barh('Outside Mainland China', outside_mainland_china_confirmed)\n",
    "plt.title('Number of Confirmed Coronavirus Cases')\n",
    "plt.show()"
   ]
  },
  {
   "cell_type": "code",
   "execution_count": null,
   "metadata": {},
   "outputs": [],
   "source": [
    "# Print the total cases in mainland china and outside of it\n",
    "\n",
    "print('Outside Mainland China {} cases:'.format(outside_mainland_china_confirmed))\n",
    "print('Mainland China: {} cases'.format(china_confirmed))\n",
    "print('Total: {} cases'.format(china_confirmed+outside_mainland_china_confirmed))"
   ]
  },
  {
   "cell_type": "code",
   "execution_count": null,
   "metadata": {},
   "outputs": [],
   "source": [
    "# Only show 10 countries with the most confirmed cases, the rest are grouped into the category named others\n",
    "\n",
    "visual_unique_countries = [] \n",
    "visual_confirmed_cases = []\n",
    "others = np.sum(country_confirmed_cases[10:])\n",
    "for i in range(len(country_confirmed_cases[:10])):\n",
    "    visual_unique_countries.append(unique_countries[i])\n",
    "    visual_confirmed_cases.append(country_confirmed_cases[i])\n",
    "\n",
    "visual_unique_countries.append('Others')\n",
    "visual_confirmed_cases.append(others)"
   ]
  },
  {
   "cell_type": "code",
   "execution_count": null,
   "metadata": {},
   "outputs": [],
   "source": [
    "# Visualize the 10 countries\n",
    "\n",
    "plt.figure(figsize=(32, 18))\n",
    "plt.barh(visual_unique_countries, visual_confirmed_cases)\n",
    "plt.title('Number of Covid-19 Confirmed Cases in Countries/Regions', size=20)\n",
    "plt.show()"
   ]
  },
  {
   "cell_type": "code",
   "execution_count": null,
   "metadata": {},
   "outputs": [],
   "source": [
    "# Create a pie chart to see the total confirmed cases in 10 different countries\n",
    "\n",
    "c = random.choices(list(mcolors.CSS4_COLORS.values()),k = len(unique_countries))\n",
    "plt.figure(figsize=(20,20))\n",
    "plt.title('Covid-19 Confirmed Cases per Country')\n",
    "plt.pie(visual_confirmed_cases, colors=c)\n",
    "plt.legend(visual_unique_countries, loc='best')\n",
    "plt.show()"
   ]
  },
  {
   "cell_type": "code",
   "execution_count": null,
   "metadata": {},
   "outputs": [],
   "source": [
    "# Create a pie chart to see the total confirmed cases in 10 different countries outside China\n",
    "\n",
    "c = random.choices(list(mcolors.CSS4_COLORS.values()),k = len(unique_countries))\n",
    "plt.figure(figsize=(20,20))\n",
    "plt.title('Covid-19 Confirmed Cases in Countries Outside of Mainland China')\n",
    "plt.pie(visual_confirmed_cases[1:], colors=c)\n",
    "plt.legend(visual_unique_countries[1:], loc='best')\n",
    "plt.show()"
   ]
  },
  {
   "cell_type": "code",
   "execution_count": null,
   "metadata": {},
   "outputs": [],
   "source": [
    "# Building the SVM model\n",
    "\n",
    "kernel = ['poly', 'sigmoid', 'rbf']\n",
    "c = [0.01, 0.1, 1, 10]\n",
    "gamma = [0.01, 0.1, 1]\n",
    "epsilon = [0.01, 0.1, 1]\n",
    "shrinking = [True, False]\n",
    "svm_grid = {'kernel': kernel, 'C': c, 'gamma' : gamma, 'epsilon': epsilon, 'shrinking' : shrinking}\n",
    "\n",
    "svm = SVR()\n",
    "svm_search = RandomizedSearchCV(svm, svm_grid, scoring='neg_mean_squared_error', cv=3, return_train_score=True, n_jobs=-1, n_iter=40, verbose=1)\n",
    "svm_search.fit(X_train_confirmed, y_train_confirmed)"
   ]
  },
  {
   "cell_type": "markdown",
   "metadata": {},
   "source": [
    "[Parallel(n_jobs=-1)]: Using backend LokyBackend with 4 concurrent workers.\n",
    "[Parallel(n_jobs=-1)]: Done  44 tasks      | elapsed:    8.1s\n",
    "[Parallel(n_jobs=-1)]: Done 120 out of 120 | elapsed:   37.2s finished\n",
    "C:\\ProgramData\\Anaconda3\\lib\\site-packages\\sklearn\\utils\\validation.py:724: DataConversionWarning: A column-vector y was passed when a 1d array was expected. Please change the shape of y to (n_samples, ), for example using ravel().\n",
    "  y = column_or_1d(y, warn=True)"
   ]
  },
  {
   "cell_type": "code",
   "execution_count": null,
   "metadata": {},
   "outputs": [],
   "source": [
    "RandomizedSearchCV(cv=3, error_score='raise-deprecating',\n",
    "                   estimator=SVR(C=1.0, cache_size=200, coef0=0.0, degree=3,\n",
    "                                 epsilon=0.1, gamma='auto_deprecated',\n",
    "                                 kernel='rbf', max_iter=-1, shrinking=True,\n",
    "                                 tol=0.001, verbose=False),\n",
    "                   iid='warn', n_iter=40, n_jobs=-1,\n",
    "                   param_distributions={'C': [0.01, 0.1, 1, 10],\n",
    "                                        'epsilon': [0.01, 0.1, 1],\n",
    "                                        'gamma': [0.01, 0.1, 1],\n",
    "                                        'kernel': ['poly', 'sigmoid', 'rbf'],\n",
    "                                        'shrinking': [True, False]},\n",
    "                   pre_dispatch='2*n_jobs', random_state=None, refit=True,\n",
    "                   return_train_score=True, scoring='neg_mean_squared_error',\n",
    "                   verbose=1)"
   ]
  },
  {
   "cell_type": "code",
   "execution_count": null,
   "metadata": {},
   "outputs": [],
   "source": [
    "svm_search.best_params_"
   ]
  },
  {
   "cell_type": "code",
   "execution_count": null,
   "metadata": {},
   "outputs": [],
   "source": [
    "svm_confirmed = svm_search.best_estimator_\n",
    "svm_pred = svm_confirmed.predict(future_forecast)"
   ]
  },
  {
   "cell_type": "code",
   "execution_count": null,
   "metadata": {},
   "outputs": [],
   "source": [
    "svm_confirmed"
   ]
  },
  {
   "cell_type": "code",
   "execution_count": null,
   "metadata": {},
   "outputs": [],
   "source": [
    "svm_pred"
   ]
  },
  {
   "cell_type": "code",
   "execution_count": null,
   "metadata": {},
   "outputs": [],
   "source": [
    "# check against testing data\n",
    "\n",
    "svm_test_pred = svm_confirmed.predict(X_test_confirmed)\n",
    "plt.plot(svm_test_pred)\n",
    "plt.plot(y_test_confirmed)\n",
    "print('MAE:', mean_absolute_error(svm_test_pred, y_test_confirmed))\n",
    "print('MSE:',mean_squared_error(svm_test_pred, y_test_confirmed))"
   ]
  },
  {
   "cell_type": "code",
   "execution_count": null,
   "metadata": {},
   "outputs": [],
   "source": [
    "# Total Number of coronavirus cases over time\n",
    "\n",
    "plt.figure(figsize=(20, 12))\n",
    "plt.plot(adjusted_dates, world_cases)\n",
    "plt.title('Number of Coronavirus Cases Over Time', size=30)\n",
    "plt.xlabel('Days Since 1/22/2020', size=30)\n",
    "plt.ylabel('Number of Cases', size=30)\n",
    "plt.xticks(size=15)\n",
    "plt.yticks(size=15)\n",
    "plt.show()"
   ]
  },
  {
   "cell_type": "code",
   "execution_count": null,
   "metadata": {},
   "outputs": [],
   "source": [
    "# Confirmed vs Predicted cases\n",
    "\n",
    "plt.figure(figsize=(20, 12))\n",
    "plt.plot(adjusted_dates, world_cases)\n",
    "plt.plot(future_forcast, svm_pred, linestyle='dashed', color='purple')\n",
    "plt.title('Number of Coronavirus Cases Over Time', size=30)\n",
    "plt.xlabel('Days Since 1/22/2020', size=30)\n",
    "plt.ylabel('Number of Cases', size=30)\n",
    "plt.legend(['Confirmed Cases', 'SVM predictions'])\n",
    "plt.xticks(size=15)\n",
    "plt.yticks(size=15)\n",
    "plt.show()"
   ]
  },
  {
   "cell_type": "code",
   "execution_count": null,
   "metadata": {},
   "outputs": [],
   "source": [
    "# Predictions for the next 10 days using SVM\n",
    "\n",
    "print('SVM future predictions:')\n",
    "set(zip(future_forcast_dates[-10:], svm_pred[-10:]))"
   ]
  },
  {
   "cell_type": "code",
   "execution_count": null,
   "metadata": {},
   "outputs": [],
   "source": [
    "# Using Linear regression model to make predictions\n",
    "\n",
    "from sklearn.linear_model import LinearRegression\n",
    "linear_model = LinearRegression(normalize=True, fit_intercept=True)\n",
    "linear_model.fit(X_train_confirmed, y_train_confirmed)\n",
    "test_linear_pred = linear_model.predict(X_test_confirmed)\n",
    "linear_pred = linear_model.predict(future_forcast)\n",
    "print('MAE:', mean_absolute_error(test_linear_pred, y_test_confirmed))\n",
    "print('MSE:',mean_squared_error(test_linear_pred, y_test_confirmed))"
   ]
  },
  {
   "cell_type": "code",
   "execution_count": null,
   "metadata": {},
   "outputs": [],
   "source": [
    "plt.plot(y_test_confirmed)\n",
    "plt.plot(test_linear_pred)"
   ]
  },
  {
   "cell_type": "code",
   "execution_count": null,
   "metadata": {},
   "outputs": [],
   "source": [
    "plt.figure(figsize=(20, 12))\n",
    "plt.plot(adjusted_dates, world_cases)\n",
    "plt.plot(future_forcast, linear_pred, linestyle='dashed', color='orange')\n",
    "plt.title('Number of Coronavirus Cases Over Time', size=30)\n",
    "plt.xlabel('Days Since 1/22/2020', size=30)\n",
    "plt.ylabel('Number of Cases', size=30)\n",
    "plt.legend(['Confirmed Cases', 'Linear Regression Predictions'])\n",
    "plt.xticks(size=15)\n",
    "plt.yticks(size=15)\n",
    "plt.show()"
   ]
  },
  {
   "cell_type": "code",
   "execution_count": null,
   "metadata": {},
   "outputs": [],
   "source": [
    "# Predictions for the next 10 days using Linear Regression\n",
    "\n",
    "print('Linear regression future predictions:')\n",
    "print(linear_pred[-10:])"
   ]
  },
  {
   "cell_type": "code",
   "execution_count": null,
   "metadata": {},
   "outputs": [],
   "source": [
    "# Total deaths over time\n",
    "\n",
    "plt.figure(figsize=(20, 12))\n",
    "plt.plot(adjusted_dates, total_deaths, color='red')\n",
    "plt.title('Number of Coronavirus Deaths Over Time', size=30)\n",
    "plt.xlabel('Time', size=30)\n",
    "plt.ylabel('Number of Deaths', size=30)\n",
    "plt.xticks(size=15)\n",
    "plt.yticks(size=15)\n",
    "plt.show()"
   ]
  },
  {
   "cell_type": "code",
   "execution_count": null,
   "metadata": {},
   "outputs": [],
   "source": [
    "mean_mortality_rate = np.mean(mortality_rate)\n",
    "plt.figure(figsize=(20, 12))\n",
    "plt.plot(adjusted_dates, mortality_rate, color='orange')\n",
    "plt.axhline(y = mean_mortality_rate,linestyle='--', color='black')\n",
    "plt.title('Mortality Rate of Coronavirus Over Time', size=30)\n",
    "plt.legend(['mortality rate', 'y='+str(mean_mortality_rate)])\n",
    "plt.xlabel('Time', size=30)\n",
    "plt.ylabel('Mortality Rate', size=30)\n",
    "plt.xticks(size=15)\n",
    "plt.yticks(size=15)\n",
    "plt.show()"
   ]
  },
  {
   "cell_type": "code",
   "execution_count": null,
   "metadata": {},
   "outputs": [],
   "source": [
    "# Coronavirus Cases Recovered Over Time\n",
    "\n",
    "plt.figure(figsize=(20, 12))\n",
    "plt.plot(adjusted_dates, total_recovered, color='green')\n",
    "plt.title('Number of Coronavirus Cases Recovered Over Time', size=30)\n",
    "plt.xlabel('Time', size=30)\n",
    "plt.ylabel('Number of Cases', size=30)\n",
    "plt.xticks(size=15)\n",
    "plt.yticks(size=15)\n",
    "plt.show()"
   ]
  },
  {
   "cell_type": "code",
   "execution_count": null,
   "metadata": {},
   "outputs": [],
   "source": [
    "# Number of Coronavirus cases recovered vs the number of deaths \n",
    "\n",
    "plt.figure(figsize=(20, 12))\n",
    "plt.plot(adjusted_dates, total_deaths, color='r')\n",
    "plt.plot(adjusted_dates, total_recovered, color='green')\n",
    "plt.legend(['deaths', 'recoveries'], loc='best', fontsize=20)\n",
    "plt.title('Number of Coronavirus Cases', size=30)\n",
    "plt.xlabel('Time', size=30)\n",
    "plt.ylabel('Number of Cases', size=30)\n",
    "plt.xticks(size=15)\n",
    "plt.yticks(size=15)\n",
    "plt.show()"
   ]
  },
  {
   "cell_type": "code",
   "execution_count": null,
   "metadata": {},
   "outputs": [],
   "source": [
    "# Coronavirus Deaths vs Recoveries\n",
    "\n",
    "plt.figure(figsize=(20, 12))\n",
    "plt.plot(total_recovered, total_deaths)\n",
    "plt.title('Coronavirus Deaths vs Coronavirus Recoveries', size=30)\n",
    "plt.xlabel('Total number of Coronavirus Recoveries', size=30)\n",
    "plt.ylabel('Total number of Coronavirus Deaths', size=30)\n",
    "plt.xticks(size=15)\n",
    "plt.yticks(size=15)\n",
    "plt.show()"
   ]
  },
  {
   "cell_type": "code",
   "execution_count": null,
   "metadata": {},
   "outputs": [],
   "source": []
  },
  {
   "cell_type": "code",
   "execution_count": null,
   "metadata": {},
   "outputs": [],
   "source": []
  },
  {
   "cell_type": "code",
   "execution_count": null,
   "metadata": {},
   "outputs": [],
   "source": []
  },
  {
   "cell_type": "code",
   "execution_count": null,
   "metadata": {},
   "outputs": [],
   "source": []
  },
  {
   "cell_type": "code",
   "execution_count": null,
   "metadata": {},
   "outputs": [],
   "source": []
  },
  {
   "cell_type": "code",
   "execution_count": null,
   "metadata": {},
   "outputs": [],
   "source": []
  },
  {
   "cell_type": "code",
   "execution_count": null,
   "metadata": {},
   "outputs": [],
   "source": []
  },
  {
   "cell_type": "code",
   "execution_count": null,
   "metadata": {},
   "outputs": [],
   "source": []
  },
  {
   "cell_type": "code",
   "execution_count": null,
   "metadata": {},
   "outputs": [],
   "source": []
  },
  {
   "cell_type": "code",
   "execution_count": null,
   "metadata": {},
   "outputs": [],
   "source": []
  }
 ],
 "metadata": {
  "kernelspec": {
   "display_name": "Python 3",
   "language": "python",
   "name": "python3"
  },
  "language_info": {
   "codemirror_mode": {
    "name": "ipython",
    "version": 3
   },
   "file_extension": ".py",
   "mimetype": "text/x-python",
   "name": "python",
   "nbconvert_exporter": "python",
   "pygments_lexer": "ipython3",
   "version": "3.7.1"
  }
 },
 "nbformat": 4,
 "nbformat_minor": 2
}
